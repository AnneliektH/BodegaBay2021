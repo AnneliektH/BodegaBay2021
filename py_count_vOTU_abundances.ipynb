{
 "cells": [
  {
   "cell_type": "markdown",
   "id": "7837f556",
   "metadata": {},
   "source": [
    "## Python notebook for PIGEON vOTUs\n",
    "- What vOTUs are at multiple sites?\n",
    "- Sum up the abundances of vOTUs originally from PIGEON\n",
    "- See in what sites they occur (what vegetation group, halophyte vs non-halophyte)"
   ]
  },
  {
   "cell_type": "code",
   "execution_count": null,
   "id": "19ea4cdc",
   "metadata": {},
   "outputs": [],
   "source": [
    "#imports\n",
    "import pandas as pd"
   ]
  },
  {
   "cell_type": "code",
   "execution_count": null,
   "id": "e788de1d",
   "metadata": {},
   "outputs": [],
   "source": [
    "# open all data (including 2019 samples), using the presence absence one\n",
    "df = pd.read_csv('../data/coverage_table_01.csv', sep=',')\n",
    "\n",
    "# sum all abundances except the contig name\n",
    "df['sum'] = df.drop('Contig', axis=1).sum(axis=1)\n",
    "\n",
    "# show how many vOTUs only in 1 sample\n",
    "df['sum'].value_counts()"
   ]
  },
  {
   "cell_type": "code",
   "execution_count": 1,
   "id": "4080260c",
   "metadata": {},
   "outputs": [],
   "source": [
    "# remove the sum column\n",
    "df.drop('sum', axis=1, inplace=True) \n",
    "\n",
    "# print length\n",
    "len(df)"
   ]
  },
  {
   "cell_type": "code",
   "execution_count": 59,
   "id": "bab9bca0",
   "metadata": {},
   "outputs": [],
   "source": [
    "# calculate in how many site votus are present, so for each site, sum presence absense\n",
    "def calc_sum_time(df, cat):\n",
    "    mesk = df.columns.str.contains(cat+'.*')\n",
    "    df.loc[:,mesk]\n",
    "    df[cat + '_sum'] = df.loc[:, mesk].sum(1)\n",
    "    return df"
   ]
  },
  {
   "cell_type": "code",
   "execution_count": null,
   "id": "c60b4a80",
   "metadata": {},
   "outputs": [],
   "source": [
    "# Convert dataframe from sums to ones and zeros again (for presence absense at a site)\n",
    "def one_zero(df):\n",
    "    df_contig = df[['Contig']]\n",
    "    df.drop('Contig', axis=1, inplace=True) \n",
    "    # ones and 0\n",
    "    df[df > 0] = 1\n",
    "    # add contig names back\n",
    "    df = df_contig.join(df)\n",
    "    return df"
   ]
  },
  {
   "cell_type": "code",
   "execution_count": 61,
   "id": "aae6ab9a",
   "metadata": {},
   "outputs": [],
   "source": [
    "# make sums for each location\n",
    "df['BMLB_sum'] = df.filter(like='BMLB').sum(1)\n",
    "df['BMLF_sum'] = df.filter(like='BMLF').sum(1)\n",
    "df['BMLS_sum'] = df.filter(like='BMLS').sum(1)\n",
    "df['DP_sum'] = df.filter(like='DP').sum(1)\n",
    "df['GPB_sum'] = df.filter(like='GPB').sum(1)\n",
    "df['GPS_sum'] = df.filter(like='GPS').sum(1)\n",
    "df['HC_sum'] = df.filter(like='HC').sum(1)\n"
   ]
  },
  {
   "cell_type": "code",
   "execution_count": 63,
   "id": "0108b907",
   "metadata": {},
   "outputs": [],
   "source": [
    "# make df into ones and zeros\n",
    "df = one_zero(df)\n",
    "\n",
    "# Sum the number of sites a vOTU was found at into a new column\n",
    "df[\"habsum\"] = df.filter(like=\"_sum\").sum(axis=1)\n",
    "\n",
    "# Print how many times a vOTU was found 1,2,3,4,5 or more times\n",
    "df['habsum'].value_counts()\n",
    "\n",
    "# Write the df to a csv for R, making plots\n",
    "df.to_csv('habsums_votus.csv')"
   ]
  }
 ],
 "metadata": {
  "kernelspec": {
   "display_name": "Python 3",
   "language": "python",
   "name": "python3"
  },
  "language_info": {
   "codemirror_mode": {
    "name": "ipython",
    "version": 3
   },
   "file_extension": ".py",
   "mimetype": "text/x-python",
   "name": "python",
   "nbconvert_exporter": "python",
   "pygments_lexer": "ipython3",
   "version": "3.8.5"
  }
 },
 "nbformat": 4,
 "nbformat_minor": 5
}

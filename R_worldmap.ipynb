{
 "cells": [
  {
   "cell_type": "markdown",
   "id": "1d823758",
   "metadata": {},
   "source": [
    "# Creating Worldmap figures for vOTUs found from PIGEON\n",
    "- U need a google API key\n",
    "- https://developers.google.com/maps/documentation/javascript/get-api-key\n",
    "- It's free for not companies\n",
    "- Make worldmap\n",
    "- Make California map (not used in paper)"
   ]
  },
  {
   "cell_type": "code",
   "execution_count": null,
   "id": "5db73eb0",
   "metadata": {},
   "outputs": [],
   "source": [
    "# load librarys\n",
    "library(ggplot2)\n",
    "library(ggmap)\n"
   ]
  },
  {
   "cell_type": "code",
   "execution_count": 14,
   "id": "f5e410fa",
   "metadata": {},
   "outputs": [],
   "source": [
    "# For ggmaps an API key is needed. U can register for APIs via google \n",
    "# register google API key for the maps\n",
    "register_google(key = 'your_api_key')\n"
   ]
  },
  {
   "cell_type": "code",
   "execution_count": 15,
   "id": "31b79437",
   "metadata": {},
   "outputs": [],
   "source": [
    "# First the worldmap\n",
    "\n",
    "# pull the world map\n",
    "world_map = map_data(\"world\")\n",
    "\n",
    "#Creat a base plot with gpplot2\n",
    "p = ggplot() + coord_fixed() +\n",
    "  xlab(\"\") + ylab(\"\") \n",
    "\n",
    "# Add map to base plot\n",
    "base_world_messy = p + geom_polygon(data=world_map, aes(x=long, y=lat, group=group), \n",
    "                                     colour=\"#bdbdbd\", fill=\"#d9d9d9\")\n",
    "\n",
    "#Strip the map down of the lat/long lines \n",
    "cleanup = theme(panel.grid.major = element_blank(), panel.grid.minor = element_blank(), \n",
    "        panel.background = element_rect(fill = '#ffffff', colour = '#ffffff'), \n",
    "        axis.line = element_line(colour = \"#e7f2fb\"), legend.position=\"#e7f2fb\",\n",
    "        axis.ticks=element_blank(), axis.text.x=element_blank(),\n",
    "        axis.text.y=element_blank())\n",
    "\n",
    "# clean up the messy world\n",
    "base_world = base_world_messy + cleanup\n"
   ]
  },
  {
   "cell_type": "code",
   "execution_count": 6,
   "id": "fd72b42e",
   "metadata": {},
   "outputs": [
    {
     "data": {
      "text/html": [
       "<table class=\"dataframe\">\n",
       "<caption>A data.frame: 6 × 6</caption>\n",
       "<thead>\n",
       "\t<tr><th></th><th scope=col>num_vOTUs</th><th scope=col>vOTU_type</th><th scope=col>country</th><th scope=col>lat</th><th scope=col>lon</th><th scope=col>color</th></tr>\n",
       "\t<tr><th></th><th scope=col>&lt;int&gt;</th><th scope=col>&lt;chr&gt;</th><th scope=col>&lt;chr&gt;</th><th scope=col>&lt;dbl&gt;</th><th scope=col>&lt;dbl&gt;</th><th scope=col>&lt;chr&gt;</th></tr>\n",
       "</thead>\n",
       "<tbody>\n",
       "\t<tr><th scope=row>aus_citrus</th><td> 1</td><td>agricultural_soil</td><td>Australia  </td><td>-25.57600</td><td> 151.27374</td><td>brown</td></tr>\n",
       "\t<tr><th scope=row>BRS_citrus</th><td> 1</td><td>agricultural_soil</td><td>Brazil     </td><td>-23.87695</td><td> -46.70108</td><td>brown</td></tr>\n",
       "\t<tr><th scope=row>Davis</th><td>53</td><td>agricultural_soil</td><td>USA        </td><td> 38.52235</td><td>-121.75777</td><td>brown</td></tr>\n",
       "\t<tr><th scope=row>FR_citrus</th><td> 2</td><td>agricultural_soil</td><td>France     </td><td>-21.34720</td><td>  55.58597</td><td>brown</td></tr>\n",
       "\t<tr><th scope=row>SA_citrus</th><td> 1</td><td>agricultural_soil</td><td>SouthAfrica</td><td>-25.48304</td><td>  31.02340</td><td>brown</td></tr>\n",
       "\t<tr><th scope=row>Arctic_Lake_CAN</th><td> 3</td><td>lake             </td><td>Canada     </td><td> 82.59668</td><td> -75.26603</td><td>blue </td></tr>\n",
       "</tbody>\n",
       "</table>\n"
      ],
      "text/latex": [
       "A data.frame: 6 × 6\n",
       "\\begin{tabular}{r|llllll}\n",
       "  & num\\_vOTUs & vOTU\\_type & country & lat & lon & color\\\\\n",
       "  & <int> & <chr> & <chr> & <dbl> & <dbl> & <chr>\\\\\n",
       "\\hline\n",
       "\taus\\_citrus &  1 & agricultural\\_soil & Australia   & -25.57600 &  151.27374 & brown\\\\\n",
       "\tBRS\\_citrus &  1 & agricultural\\_soil & Brazil      & -23.87695 &  -46.70108 & brown\\\\\n",
       "\tDavis & 53 & agricultural\\_soil & USA         &  38.52235 & -121.75777 & brown\\\\\n",
       "\tFR\\_citrus &  2 & agricultural\\_soil & France      & -21.34720 &   55.58597 & brown\\\\\n",
       "\tSA\\_citrus &  1 & agricultural\\_soil & SouthAfrica & -25.48304 &   31.02340 & brown\\\\\n",
       "\tArctic\\_Lake\\_CAN &  3 & lake              & Canada      &  82.59668 &  -75.26603 & blue \\\\\n",
       "\\end{tabular}\n"
      ],
      "text/markdown": [
       "\n",
       "A data.frame: 6 × 6\n",
       "\n",
       "| <!--/--> | num_vOTUs &lt;int&gt; | vOTU_type &lt;chr&gt; | country &lt;chr&gt; | lat &lt;dbl&gt; | lon &lt;dbl&gt; | color &lt;chr&gt; |\n",
       "|---|---|---|---|---|---|---|\n",
       "| aus_citrus |  1 | agricultural_soil | Australia   | -25.57600 |  151.27374 | brown |\n",
       "| BRS_citrus |  1 | agricultural_soil | Brazil      | -23.87695 |  -46.70108 | brown |\n",
       "| Davis | 53 | agricultural_soil | USA         |  38.52235 | -121.75777 | brown |\n",
       "| FR_citrus |  2 | agricultural_soil | France      | -21.34720 |   55.58597 | brown |\n",
       "| SA_citrus |  1 | agricultural_soil | SouthAfrica | -25.48304 |   31.02340 | brown |\n",
       "| Arctic_Lake_CAN |  3 | lake              | Canada      |  82.59668 |  -75.26603 | blue  |\n",
       "\n"
      ],
      "text/plain": [
       "                num_vOTUs vOTU_type         country     lat       lon       \n",
       "aus_citrus       1        agricultural_soil Australia   -25.57600  151.27374\n",
       "BRS_citrus       1        agricultural_soil Brazil      -23.87695  -46.70108\n",
       "Davis           53        agricultural_soil USA          38.52235 -121.75777\n",
       "FR_citrus        2        agricultural_soil France      -21.34720   55.58597\n",
       "SA_citrus        1        agricultural_soil SouthAfrica -25.48304   31.02340\n",
       "Arctic_Lake_CAN  3        lake              Canada       82.59668  -75.26603\n",
       "                color\n",
       "aus_citrus      brown\n",
       "BRS_citrus      brown\n",
       "Davis           brown\n",
       "FR_citrus       brown\n",
       "SA_citrus       brown\n",
       "Arctic_Lake_CAN blue "
      ]
     },
     "metadata": {},
     "output_type": "display_data"
    }
   ],
   "source": [
    "#read in the datapoints of vOTUs found at different places\n",
    "# For location there is # otus found, and latitude and longitude (most important)\n",
    "votu <- read.csv(\"../data/votus_on_map.csv\", \n",
    "                    sep=\",\", header=T, row.names=1)\n",
    "# show table\n",
    "head(votu)"
   ]
  },
  {
   "cell_type": "code",
   "execution_count": 7,
   "id": "9eac7c56",
   "metadata": {},
   "outputs": [
    {
     "data": {
      "text/html": [
       "<strong>pdf:</strong> 2"
      ],
      "text/latex": [
       "\\textbf{pdf:} 2"
      ],
      "text/markdown": [
       "**pdf:** 2"
      ],
      "text/plain": [
       "pdf \n",
       "  2 "
      ]
     },
     "metadata": {},
     "output_type": "display_data"
    }
   ],
   "source": [
    "# map points to this world\n",
    "map_data = base_world + geom_point(data=votu, aes(x = lon, y = lat,\n",
    "                color=factor(color), size=num_vOTUs, alpha=0.5))\n",
    "\n",
    "# Write file to pdf\n",
    "pdf('../plots/viruses_on_worldmap.pdf')\n",
    "\n",
    "# Print the picture in console\n",
    "print(map_data)\n",
    "\n",
    "dev.off()"
   ]
  },
  {
   "cell_type": "code",
   "execution_count": 19,
   "id": "c3b84afb",
   "metadata": {},
   "outputs": [],
   "source": [
    "#Now a california map\n",
    "# Open all vOTUs found in cali (number votus, latitute, longitude)\n",
    "cali <- read.csv(\"../data/cali_virs_on_map.csv\", \n",
    "                    sep=\",\", header=T, row.names=1)"
   ]
  },
  {
   "cell_type": "code",
   "execution_count": 20,
   "id": "7d8ec64c",
   "metadata": {},
   "outputs": [],
   "source": [
    "# Open the california map\n",
    "CA = map_data(\"state\", region = \"california\")"
   ]
  },
  {
   "cell_type": "code",
   "execution_count": 21,
   "id": "c9dd32ce",
   "metadata": {},
   "outputs": [],
   "source": [
    "#Creat a base plot with gpplot2\n",
    "p = ggplot() + coord_fixed() +\n",
    "  xlab(\"\") + ylab(\"\") \n",
    "\n",
    "#Add map to base plot\n",
    "base_world_messy = p + geom_polygon(data=CA, aes(x=long, y=lat, group=group), \n",
    "                                     colour=\"#969696\", fill=\"#cccccc\")\n",
    "\n",
    "#Strip the map down of the lat/long lines \n",
    "cleanup = theme(panel.grid.major = element_blank(), panel.grid.minor = element_blank(), \n",
    "        panel.background = element_rect(fill = '#ffffff', colour = '#ffffff'), \n",
    "        axis.line = element_line(colour = \"#e7f2fb\"), legend.position=\"#e7f2fb\",\n",
    "        axis.ticks=element_blank(), axis.text.x=element_blank(),\n",
    "        axis.text.y=element_blank())\n",
    "\n",
    "# clean up the messy world\n",
    "CA_clean = base_world_messy + cleanup\n"
   ]
  },
  {
   "cell_type": "code",
   "execution_count": 23,
   "id": "04542d1b",
   "metadata": {},
   "outputs": [
    {
     "data": {
      "text/html": [
       "<strong>pdf:</strong> 2"
      ],
      "text/latex": [
       "\\textbf{pdf:} 2"
      ],
      "text/markdown": [
       "**pdf:** 2"
      ],
      "text/plain": [
       "pdf \n",
       "  2 "
      ]
     },
     "metadata": {},
     "output_type": "display_data"
    }
   ],
   "source": [
    "# map points to this world\n",
    "map_data = CA_clean + geom_point(data=cali, \n",
    "                                 aes(x = lon, y = lat, alpha=0.75, size=num_vOTUs, color=factor(color)))+\n",
    "scale_size(range = c(2.5,10))\n",
    "\n",
    "# Write to pdf\n",
    "pdf('../plots/viruses_on_CAmap.pdf')\n",
    "\n",
    "# print map in console\n",
    "print(map_data)\n",
    "\n",
    "dev.off()\n"
   ]
  }
 ],
 "metadata": {
  "kernelspec": {
   "display_name": "R",
   "language": "R",
   "name": "ir"
  },
  "language_info": {
   "codemirror_mode": "r",
   "file_extension": ".r",
   "mimetype": "text/x-r-source",
   "name": "R",
   "pygments_lexer": "r",
   "version": "4.1.0"
  }
 },
 "nbformat": 4,
 "nbformat_minor": 5
}

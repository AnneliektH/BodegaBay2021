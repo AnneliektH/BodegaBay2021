{
 "cells": [
  {
   "cell_type": "markdown",
   "id": "47b9708e",
   "metadata": {},
   "source": [
    "## Use the VIBRANT output files to count the number of predicted genes\n",
    "- All VIBRANT annotation files were concatenated \n",
    "- annotation files can be found in the vibrant output folder (VIBRANT_annotations*.tsv file)\n",
    "- Start-stop locations of all predicted proteins were pulled from the predicted protein headers. \n",
    "- Protein predictions were done by VIBRANT, using prodigal"
   ]
  },
  {
   "cell_type": "code",
   "execution_count": null,
   "id": "cfff1223",
   "metadata": {},
   "outputs": [],
   "source": [
    "# clean the files\n",
    "# Open the file with the protien start stops\n",
    "df_ln = pd.read_csv('Gene_pred_all_genomes/230403_combinedphageheader_startstop.tsv', sep='\\t')\n",
    "\n",
    "# remove the > \n",
    "df_ln['protein'] = df_ln['protein'].str.replace(r'>', '')\n",
    "\n",
    "# remove the brackets\n",
    "df_ln['st_stop'] = df_ln['st_stop'].str.replace(r'(', '')\n",
    "\n",
    "df_ln['st_stop'] = df_ln['st_stop'].str.replace(r')', '')\n",
    "\n",
    "df_ln[['start', 'stop']] = df_ln['st_stop'].str.split('.', 1, expand=True)\n",
    "\n",
    "df_ln['stop'] = df_ln['stop'].str.replace(r'.', '')\n"
   ]
  },
  {
   "cell_type": "code",
   "execution_count": null,
   "id": "3de987a3",
   "metadata": {},
   "outputs": [],
   "source": [
    "# open gene annotation predictions from vibrant, where annotations i\n",
    "df_genepred = pd.read_csv('Gene_pred_all_genomes/230404_annotations_all.tsv', sep='\\t')"
   ]
  },
  {
   "cell_type": "code",
   "execution_count": null,
   "id": "c4a1237c",
   "metadata": {},
   "outputs": [],
   "source": [
    "# merge gene predictions and gene start stop\n",
    "df1 = pd.merge(df_ln, df_genepred, on='protein', how='inner')"
   ]
  },
  {
   "cell_type": "code",
   "execution_count": null,
   "id": "e45ab0c8",
   "metadata": {},
   "outputs": [],
   "source": [
    "# Filter based on gene prediction by VOG db\n",
    "df1['Activity'] = pd.np.where(df1.VOGname.str.contains(\"tail\", case=False), \"tail\",\n",
    "                   pd.np.where(df1.VOGname.str.contains(\"head\", case=False), \"head\",\n",
    "                   pd.np.where(df1.VOGname.str.contains(\"hypothetical protein\", case=False), \"hypothetical\",\n",
    "                   pd.np.where(df1.VOGname.str.contains(\"terminase\", case=False), \"terminase\",\n",
    "                   pd.np.where(df1.VOGname.str.contains(\"capsid\", case=False), \"capsid\", \"other\")))))"
   ]
  },
  {
   "cell_type": "code",
   "execution_count": null,
   "id": "4fc7e1a2",
   "metadata": {},
   "outputs": [],
   "source": [
    "# Count number of times words have been found\n",
    "df1['Activity'].value_counts().to_frame()"
   ]
  },
  {
   "cell_type": "code",
   "execution_count": null,
   "id": "7d0d78fb",
   "metadata": {},
   "outputs": [],
   "source": [
    "# Add Crispr data and look at difference\n",
    "df_crispr = pd.read_csv('../spacers_vOTUs_crass.tsv',sep='\\t')\n",
    "\n",
    "# merge with annotation data\n",
    "df = pd.merge(df1, df_crispr, on='scaffold', how='inner')\n",
    "\n",
    "# change start stop locations to numbers instead of strings\n",
    "df[\"start\"] = pd.to_numeric(df[\"start\"])\n",
    "df[\"stop\"] = pd.to_numeric(df[\"stop\"])\n",
    "\n",
    "\n",
    "# Compare start stop positions of genes with the crispr start stop\n",
    "# Keep protein prediction if gene falls within the crispr region\n",
    "df = df[(df['start']>=df['sstart']) & (df['stop']<=df['send']) | \n",
    "        (df['start']<=df['sstart']) & (df['stop']>=df['send'])]"
   ]
  },
  {
   "cell_type": "code",
   "execution_count": null,
   "id": "8f5b4ce9",
   "metadata": {},
   "outputs": [],
   "source": [
    "# again count the VOG predictions\n",
    "df = df['Activity'].value_counts().to_frame()\n"
   ]
  }
 ],
 "metadata": {
  "kernelspec": {
   "display_name": "Python 3",
   "language": "python",
   "name": "python3"
  },
  "language_info": {
   "codemirror_mode": {
    "name": "ipython",
    "version": 3
   },
   "file_extension": ".py",
   "mimetype": "text/x-python",
   "name": "python",
   "nbconvert_exporter": "python",
   "pygments_lexer": "ipython3",
   "version": "3.8.5"
  }
 },
 "nbformat": 4,
 "nbformat_minor": 5
}

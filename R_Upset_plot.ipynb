{
 "cells": [
  {
   "cell_type": "markdown",
   "id": "abd02966",
   "metadata": {},
   "source": [
    "## Create UpSet Plot"
   ]
  },
  {
   "cell_type": "code",
   "execution_count": null,
   "id": "e87fafd4",
   "metadata": {},
   "outputs": [],
   "source": [
    "# Load libraries\n",
    "library(UpSetR)\n",
    "library(tidyverse)"
   ]
  },
  {
   "cell_type": "code",
   "execution_count": 2,
   "id": "e65cb595",
   "metadata": {},
   "outputs": [],
   "source": [
    "# Open the data needed\n",
    "# presence/absence matrix with for each site if vOTU is present/absent\n",
    "otu <- read.csv(\"../data/pres_ab_sitesvotus.csv\", header = T)\n",
    "\n",
    "# Open metadata\n",
    "map <- read.csv(\"../data/metadata.csv\", header = T)\n"
   ]
  },
  {
   "cell_type": "code",
   "execution_count": 1,
   "id": "96e8fbf4",
   "metadata": {},
   "outputs": [],
   "source": [
    "# Create a datatable with for each site what OTUs were found\n",
    "# So its SiteID | OTU_ID | SiteID_number\n",
    "site.occurrence <- otu %>% \n",
    "  tidy_otu() %>% \n",
    "  filter(Count > 0) %>% \n",
    "  group_by(SampleID, OTU_ID) %>% \n",
    "  summarise(Site = n()) %>% \n",
    "  ungroup()\n",
    "head(site.occurrence)"
   ]
  },
  {
   "cell_type": "code",
   "execution_count": 2,
   "id": "71d05dc7",
   "metadata": {},
   "outputs": [],
   "source": [
    "# Create a Upset from this df, so for each of the sites (samples), we have Otu ids. \n",
    "#pdf(\"../plots/220826_Upset_BB2021.pdf\")\n",
    "upset(fromList(list(BMLB = filter(site.occurrence, SampleID == \"BMLB\")$OTU_ID,\n",
    "                   BMLF = filter(site.occurrence, SampleID == \"BMLF\")$OTU_ID,\n",
    "                   BMLS = filter(site.occurrence, SampleID == \"BMLS\")$OTU_ID,\n",
    "                   DP = filter(site.occurrence, SampleID == \"DP\")$OTU_ID,\n",
    "                   GPB = filter(site.occurrence, SampleID == \"GPB\")$OTU_ID,\n",
    "                   GPS = filter(site.occurrence, SampleID == \"GPS\")$OTU_ID,\n",
    "                   HC = filter(site.occurrence, SampleID == \"HC\")$OTU_ID)\n",
    "              ), text.scale=1, nsets = 16, nintersects = 36, order.by = \"freq\", scale.sets = \"log10\", scale.intersections = \"log10\")\n",
    "dev.off()"
   ]
  }
 ],
 "metadata": {
  "kernelspec": {
   "display_name": "R",
   "language": "R",
   "name": "ir"
  },
  "language_info": {
   "codemirror_mode": "r",
   "file_extension": ".r",
   "mimetype": "text/x-r-source",
   "name": "R",
   "pygments_lexer": "r",
   "version": "4.1.0"
  }
 },
 "nbformat": 4,
 "nbformat_minor": 5
}

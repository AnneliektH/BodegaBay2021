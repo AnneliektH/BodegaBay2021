{
 "cells": [
  {
   "cell_type": "markdown",
   "id": "ab8ae47f",
   "metadata": {},
   "source": [
    "## Calculating co-occurences\n",
    "- Calculate what vOTUs significantly co-occur with each other\n",
    "- Calculate what MAGs significantly co-occur with each other\n",
    "- https://cran.r-project.org/web/packages/cooccur/cooccur.pdf"
   ]
  },
  {
   "cell_type": "code",
   "execution_count": null,
   "id": "fb173429",
   "metadata": {},
   "outputs": [],
   "source": [
    "# Load library\n",
    "library(cooccur)"
   ]
  },
  {
   "cell_type": "code",
   "execution_count": 1,
   "id": "e1a77832",
   "metadata": {},
   "outputs": [],
   "source": [
    "# Load the files required and transpose\n",
    "# Coocur needs presence-absence data, so 0s for absence 1s for presence\n",
    "otu <- read.table(\"../data/votu_coverage_table_01.csv\", \n",
    "              sep=\",\", header=T, row.names=1)\n",
    "# print top of file\n",
    "head(otu)\n",
    "\n",
    "# Transpose the file so vOTUs are rows, samples are columns, vOTUs are rows\n",
    "otu = t(votu)"
   ]
  },
  {
   "cell_type": "code",
   "execution_count": null,
   "id": "60a7b7cf",
   "metadata": {},
   "outputs": [],
   "source": [
    "# Do co-occurence analysis\n",
    "co <- print(cooccur(otu, spp_names = TRUE))"
   ]
  },
  {
   "cell_type": "code",
   "execution_count": 23,
   "id": "d8ac8cc6",
   "metadata": {},
   "outputs": [],
   "source": [
    "# Make a copy of the output in case something goes wrong (and it took a long time)\n",
    "co_copy = co"
   ]
  },
  {
   "cell_type": "code",
   "execution_count": 24,
   "id": "0c01edae",
   "metadata": {},
   "outputs": [],
   "source": [
    "# Remove NaNs\n",
    "co2 = na.omit(co_copy)\n",
    "\n",
    "# Write resulting co-occurence to file\n",
    "write.csv(co2, 'co_occurence_votus.csv')"
   ]
  }
 ],
 "metadata": {
  "kernelspec": {
   "display_name": "R",
   "language": "R",
   "name": "ir"
  },
  "language_info": {
   "codemirror_mode": "r",
   "file_extension": ".r",
   "mimetype": "text/x-r-source",
   "name": "R",
   "pygments_lexer": "r",
   "version": "4.1.0"
  }
 },
 "nbformat": 4,
 "nbformat_minor": 5
}

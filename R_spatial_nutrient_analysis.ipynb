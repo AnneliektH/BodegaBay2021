{
 "cells": [
  {
   "cell_type": "markdown",
   "id": "848f584e",
   "metadata": {},
   "source": [
    "## spatial - viral analysis\n",
    "- Compare viral community composition to spatial distance\n",
    "- Compare viral community composition to soil biochemical data\n"
   ]
  },
  {
   "cell_type": "code",
   "execution_count": null,
   "id": "69342232",
   "metadata": {},
   "outputs": [],
   "source": [
    "# Load the libraries and functions needed for the analysis\n",
    "library(vegan)\n",
    "library(ggplot2)\n",
    "library(ape)\n",
    "library(ggrepel)\n",
    "library(tidyverse)\n",
    "library(cowplot)\n",
    "library(measurements)\n",
    "library(geosphere)\n",
    "library(broom)"
   ]
  },
  {
   "cell_type": "code",
   "execution_count": 2,
   "id": "e4318d4a",
   "metadata": {},
   "outputs": [],
   "source": [
    "# Open the metadata\n",
    "map <- read.csv(\"../data/metadata.csv\", header = T)\n",
    "\n",
    "\n",
    "# Open the OTU table\n",
    "otu <- read.table(\"../data/coveragetable.csv\", \n",
    "              sep=\",\", header=T, row.names=1)\n",
    "\n",
    "\n",
    "# Transform otu table to bray-curtis dissimilarity matrix, using jaccard distance\n",
    "otu <- t(otu)\n",
    "otu.xform <- decostand(otu, method=\"hellinger\")\n",
    "otu.dist <- as.matrix(vegdist(otu.xform, method='jaccard'))\n"
   ]
  },
  {
   "cell_type": "code",
   "execution_count": 5,
   "id": "8980881f",
   "metadata": {},
   "outputs": [],
   "source": [
    "# # get coordinates right ( as in latitude longitude)\n",
    "mtx = map %>% \n",
    "  select(SampleID, lon_d, lat_d) %>% \n",
    "  as.data.frame()\n",
    "row.names(mtx) <- mtx$SampleID\n",
    "mtx <- mtx[,-1]\n",
    "mtx <- as.matrix(mtx)\n",
    "\n",
    "# calculate spatial distance between coordinates\n",
    "spatial.dist <- geosphere::distm(mtx, mtx) %>% as.data.frame()\n",
    "row.names(spatial.dist) <- row.names(mtx)\n",
    "colnames(spatial.dist) <- row.names(mtx)\n",
    "\n",
    "\n",
    "# Make a table that has each sample and then the distance between those samples in km\n",
    "spatial.dist.tidy <- spatial.dist %>% \n",
    "  mutate(SampleID.x = row.names(.)) %>% \n",
    "  gather(key = \"SampleID.y\", value = \"SpatialDistance\", -SampleID.x) %>% \n",
    "  mutate(SpatialDistance = SpatialDistance/1000)\n",
    "\n",
    "# Write this to a csv cause i want to look at it\n",
    "write.csv(spatial.dist.tidy, '../data/spatial_dist_matrix.csv')"
   ]
  },
  {
   "cell_type": "code",
   "execution_count": 6,
   "id": "66664d98",
   "metadata": {},
   "outputs": [],
   "source": [
    "# keep only things i need from metadata\n",
    "meta = map %>% \n",
    "  select(SampleID, plot, plot_detail, timepoint) %>% \n",
    "  as.data.frame()"
   ]
  },
  {
   "cell_type": "code",
   "execution_count": 7,
   "id": "a9c06198",
   "metadata": {},
   "outputs": [],
   "source": [
    "# Make dataframe from braycurtis dist\n",
    "bray.dist <- otu.dist %>% \n",
    "as.data.frame() %>% \n",
    "mutate(SampleID.x = row.names(.)) %>% \n",
    "gather(key = \"SampleID.y\", value = \"BrayDistance\", - SampleID.x)"
   ]
  },
  {
   "cell_type": "code",
   "execution_count": 9,
   "id": "00da2c5c",
   "metadata": {},
   "outputs": [
    {
     "data": {
      "text/html": [
       "<table class=\"dataframe\">\n",
       "<caption>A data.frame: 6 × 4</caption>\n",
       "<thead>\n",
       "\t<tr><th></th><th scope=col>SampleID.x</th><th scope=col>SampleID.y</th><th scope=col>BrayDistance</th><th scope=col>SpatialDistance</th></tr>\n",
       "\t<tr><th></th><th scope=col>&lt;chr&gt;</th><th scope=col>&lt;chr&gt;</th><th scope=col>&lt;dbl&gt;</th><th scope=col>&lt;dbl&gt;</th></tr>\n",
       "</thead>\n",
       "<tbody>\n",
       "\t<tr><th scope=row>1</th><td>BMLB1_T1_V</td><td>BMLB1_T1_V</td><td>0.0000000</td><td>0.000000000</td></tr>\n",
       "\t<tr><th scope=row>2</th><td>BMLB1_T2_V</td><td>BMLB1_T1_V</td><td>0.8637022</td><td>0.020652167</td></tr>\n",
       "\t<tr><th scope=row>3</th><td>BMLB1_T3_V</td><td>BMLB1_T1_V</td><td>0.9013672</td><td>0.007399428</td></tr>\n",
       "\t<tr><th scope=row>4</th><td>BMLB2_T1_V</td><td>BMLB1_T1_V</td><td>0.9315496</td><td>0.018727481</td></tr>\n",
       "\t<tr><th scope=row>5</th><td>BMLB2_T2_V</td><td>BMLB1_T1_V</td><td>0.9296350</td><td>0.034443434</td></tr>\n",
       "\t<tr><th scope=row>6</th><td>BMLB2_T3_V</td><td>BMLB1_T1_V</td><td>0.9265447</td><td>0.044068026</td></tr>\n",
       "</tbody>\n",
       "</table>\n"
      ],
      "text/latex": [
       "A data.frame: 6 × 4\n",
       "\\begin{tabular}{r|llll}\n",
       "  & SampleID.x & SampleID.y & BrayDistance & SpatialDistance\\\\\n",
       "  & <chr> & <chr> & <dbl> & <dbl>\\\\\n",
       "\\hline\n",
       "\t1 & BMLB1\\_T1\\_V & BMLB1\\_T1\\_V & 0.0000000 & 0.000000000\\\\\n",
       "\t2 & BMLB1\\_T2\\_V & BMLB1\\_T1\\_V & 0.8637022 & 0.020652167\\\\\n",
       "\t3 & BMLB1\\_T3\\_V & BMLB1\\_T1\\_V & 0.9013672 & 0.007399428\\\\\n",
       "\t4 & BMLB2\\_T1\\_V & BMLB1\\_T1\\_V & 0.9315496 & 0.018727481\\\\\n",
       "\t5 & BMLB2\\_T2\\_V & BMLB1\\_T1\\_V & 0.9296350 & 0.034443434\\\\\n",
       "\t6 & BMLB2\\_T3\\_V & BMLB1\\_T1\\_V & 0.9265447 & 0.044068026\\\\\n",
       "\\end{tabular}\n"
      ],
      "text/markdown": [
       "\n",
       "A data.frame: 6 × 4\n",
       "\n",
       "| <!--/--> | SampleID.x &lt;chr&gt; | SampleID.y &lt;chr&gt; | BrayDistance &lt;dbl&gt; | SpatialDistance &lt;dbl&gt; |\n",
       "|---|---|---|---|---|\n",
       "| 1 | BMLB1_T1_V | BMLB1_T1_V | 0.0000000 | 0.000000000 |\n",
       "| 2 | BMLB1_T2_V | BMLB1_T1_V | 0.8637022 | 0.020652167 |\n",
       "| 3 | BMLB1_T3_V | BMLB1_T1_V | 0.9013672 | 0.007399428 |\n",
       "| 4 | BMLB2_T1_V | BMLB1_T1_V | 0.9315496 | 0.018727481 |\n",
       "| 5 | BMLB2_T2_V | BMLB1_T1_V | 0.9296350 | 0.034443434 |\n",
       "| 6 | BMLB2_T3_V | BMLB1_T1_V | 0.9265447 | 0.044068026 |\n",
       "\n"
      ],
      "text/plain": [
       "  SampleID.x SampleID.y BrayDistance SpatialDistance\n",
       "1 BMLB1_T1_V BMLB1_T1_V 0.0000000    0.000000000    \n",
       "2 BMLB1_T2_V BMLB1_T1_V 0.8637022    0.020652167    \n",
       "3 BMLB1_T3_V BMLB1_T1_V 0.9013672    0.007399428    \n",
       "4 BMLB2_T1_V BMLB1_T1_V 0.9315496    0.018727481    \n",
       "5 BMLB2_T2_V BMLB1_T1_V 0.9296350    0.034443434    \n",
       "6 BMLB2_T3_V BMLB1_T1_V 0.9265447    0.044068026    "
      ]
     },
     "metadata": {},
     "output_type": "display_data"
    }
   ],
   "source": [
    "# join both distance frames\n",
    "distance.both <- bray.dist %>% \n",
    "  inner_join(spatial.dist.tidy, by = c(\"SampleID.x\", \"SampleID.y\"))\n",
    "\n",
    "# print distance frame to check\n",
    "head(distance.both)"
   ]
  },
  {
   "cell_type": "code",
   "execution_count": 11,
   "id": "9f1af72a",
   "metadata": {},
   "outputs": [],
   "source": [
    "# Create dataframe from the table, and add metadata\n",
    "df <- distance.both %>% \n",
    "  inner_join(meta, by = c(\"SampleID.x\" = \"SampleID\")) %>% \n",
    "  inner_join(meta, by = c(\"SampleID.y\" = \"SampleID\"))\n"
   ]
  },
  {
   "cell_type": "code",
   "execution_count": 17,
   "id": "b7612480",
   "metadata": {},
   "outputs": [],
   "source": [
    "# Keep datapoints that are not compared to itself\n",
    "df <- subset(df, BrayDistance > 0)\n",
    "\n",
    "# convert spatial distance to meters\n",
    "df$SpatialDistance_m <- df$SpatialDistance * 1000\n"
   ]
  },
  {
   "cell_type": "code",
   "execution_count": 19,
   "id": "978cb360",
   "metadata": {},
   "outputs": [
    {
     "data": {
      "text/html": [
       "<table class=\"dataframe\">\n",
       "<caption>A data.frame: 1 × 1</caption>\n",
       "<thead>\n",
       "\t<tr><th scope=col>label</th></tr>\n",
       "\t<tr><th scope=col>&lt;chr&gt;</th></tr>\n",
       "</thead>\n",
       "<tbody>\n",
       "\t<tr><td>r =  0.38 \n",
       "slope =  2320 \n",
       "P =  2.7e-134</td></tr>\n",
       "</tbody>\n",
       "</table>\n"
      ],
      "text/latex": [
       "A data.frame: 1 × 1\n",
       "\\begin{tabular}{l}\n",
       " label\\\\\n",
       " <chr>\\\\\n",
       "\\hline\n",
       "\t r =  0.38 \n",
       "slope =  2320 \n",
       "P =  2.7e-134\\\\\n",
       "\\end{tabular}\n"
      ],
      "text/markdown": [
       "\n",
       "A data.frame: 1 × 1\n",
       "\n",
       "| label &lt;chr&gt; |\n",
       "|---|\n",
       "| r =  0.38 \n",
       "slope =  2320 \n",
       "P =  2.7e-134 |\n",
       "\n"
      ],
      "text/plain": [
       "  label                                    \n",
       "1 r =  0.38 \\nslope =  2320 \\nP =  2.7e-134"
      ]
     },
     "metadata": {},
     "output_type": "display_data"
    }
   ],
   "source": [
    "#Perform correlation analysis and regression \n",
    "cor <- cor.test(df$BrayDistance, df$SpatialDistance_m, method = \"pearson\", alternative = \"two.sided\") %>% tidy()\n",
    "lm <- lm(SpatialDistance_m ~ BrayDistance, data = df1) %>% tidy() %>% filter(term == \"BrayDistance\")\n",
    "dist.stats <- data.frame(label = paste(\"r = \", signif(cor$estimate,3), \n",
    "                                       \"\\nslope = \", signif(lm$estimate, 3),\n",
    "                                       \"\\nP = \", signif(cor$p.value, 3)))\n",
    "dist.stats"
   ]
  },
  {
   "cell_type": "code",
   "execution_count": null,
   "id": "51b9b4a0",
   "metadata": {},
   "outputs": [],
   "source": []
  },
  {
   "cell_type": "code",
   "execution_count": 24,
   "id": "b1f53283",
   "metadata": {},
   "outputs": [
    {
     "name": "stderr",
     "output_type": "stream",
     "text": [
      "`geom_smooth()` using formula 'y ~ x'\n",
      "\n"
     ]
    },
    {
     "data": {
      "text/html": [
       "<strong>pdf:</strong> 2"
      ],
      "text/latex": [
       "\\textbf{pdf:} 2"
      ],
      "text/markdown": [
       "**pdf:** 2"
      ],
      "text/plain": [
       "pdf \n",
       "  2 "
      ]
     },
     "metadata": {},
     "output_type": "display_data"
    }
   ],
   "source": [
    "# Make a line plot for the spatial distance compared to jaccard distance of samples\n",
    "\n",
    "#pdf('../plots/221201_spatial_jaccard_dist_no.pdf', width = 11, height =7)\n",
    "dist.p <- df %>% \n",
    "  ggplot(aes(SpatialDistance_m, BrayDistance)) +\n",
    "  geom_text(data = dist.stats, aes(x = 200, y = 0.5, label = label), hjust = 0, size = 5) + \n",
    "  geom_point(alpha = 0.5, color = \"gray25\") +\n",
    "  geom_smooth(color = \"gray25\", method = \"lm\", se = F) +\n",
    "  scale_color_brewer(name = \"\", palette = \"Dark2\") +\n",
    "  scale_fill_brewer(name = \"\", palette = \"Dark2\") +\n",
    "  ylab(\"vOTUs (Virome)\\nPairwise Jaccard Dissimilarity \") +\n",
    "  xlab(\"Spatial distance (m)\") +\n",
    "  theme_light() +\n",
    "  #scale_y_log10() +\n",
    "  scale_x_log10() +\n",
    "  theme(text = element_text(size = 15),\n",
    "        legend.position = \"left\")\n",
    "dist.p\n",
    "dev.off()"
   ]
  },
  {
   "cell_type": "markdown",
   "id": "3bfe6094",
   "metadata": {},
   "source": [
    "## Now comparing the biochemical data to viral community composition"
   ]
  },
  {
   "cell_type": "code",
   "execution_count": 12,
   "id": "1da4e67f",
   "metadata": {},
   "outputs": [],
   "source": [
    "#Generate a data frame with the full names of all the variables profiled\n",
    "\n",
    "alt.names <- tribble(\n",
    "  ~Variable, ~Variable2,\n",
    "  \"soil_ph\", \"Soil pH\",\n",
    "  \"perc_moisture\", \"Soil moisture (%)\",\n",
    "  \"Salts_mmho_cm1_1_S\", \"Soluble salts (mmho/cm)\",\n",
    "  \"org_matter\", \"Organic Matter (LOI %)\",\n",
    "  \"Nitrate_N_ppm_N\", \"Nitrate (ppm)\",\n",
    "  \"Olsen_P_ppm_P\", \"Phosphorus (ppm)\",\n",
    "  \"Potassium_ppm_K\", \"Potassium (ppm)\",\n",
    "  \"Sulfate_S_ppm_S\", \"Sulfate (ppm)\",\n",
    "  \"Zinc_ppm_Zn\", \"Zinc (ppm)\",\n",
    "  \"Iron_ppm_Fe\", \"Iron (ppm)\",\n",
    "  \"Manganese_ppm_Mn\", \"Manganese (ppm)\",\n",
    "  \"Copper_ppm_Cu\", \"Copper (ppm)\",\n",
    "  \"Calcium_ppm_Ca\", \"Calcium (ppm)\",\n",
    "  \"Magnesium_ppm_Mg\", \"Magnesium (ppm)\",\n",
    "  \"Sodium_ppm_Na\", \"Sodium (ppm)\",\n",
    "  \"CEC_Sum_of_Cations_me_100g\", \"CEC (meq/100g)\"\n",
    ")\n"
   ]
  },
  {
   "cell_type": "code",
   "execution_count": 12,
   "id": "9e3974ce",
   "metadata": {},
   "outputs": [],
   "source": [
    "# Nutrient analysis:\n",
    "ward <- read.table(\"../data/nutrients.csv\", header = T, sep = \",\")\n"
   ]
  },
  {
   "cell_type": "code",
   "execution_count": 13,
   "id": "e07b0047",
   "metadata": {},
   "outputs": [],
   "source": [
    "# Open the OTU table\n",
    "otu <- read.table(\"../data/coveragetable.csv\", \n",
    "              sep=\",\", header=T, row.names=1)\n",
    "\n",
    "# transpose\n",
    "otu <- t(otu)\n",
    "otu.xform <- decostand(otu, method=\"hellinger\")\n",
    "otu.dist <- as.matrix(vegdist(otu.xform, method='jaccard'))\n",
    "\n",
    "# Put in df\n",
    "bray.dist <- otu.dist %>% \n",
    "as.data.frame() %>% \n",
    "mutate(SampleID.x = row.names(.)) %>% \n",
    "gather(key = \"SampleID.y\", value = \"BrayDistance\", - SampleID.x)"
   ]
  },
  {
   "cell_type": "code",
   "execution_count": 10,
   "id": "119f3f4a",
   "metadata": {},
   "outputs": [],
   "source": [
    "#Remove variables with no variation, z-transform each variable, and format it as a matrix\n",
    "nut.mtx <- ward %>% \n",
    "  select(-Excess_Lime, -Texture_No, -H_Sat, -Ca_Sat, -K_Sat, -Na_Sat, -Mg_Sat) %>% \n",
    "  gather(key = \"Variable\", value = \"Value\", -SampleID) %>% \n",
    "  group_by(Variable) %>% \n",
    "  mutate(zValue = (Value - mean(Value))/sd(Value)) %>% \n",
    "  select(SampleID, Variable, zValue) %>% \n",
    "  spread(key = Variable, value = zValue) %>% \n",
    "  as.data.frame()\n",
    "row.names(nut.mtx) <- nut.mtx$SampleID\n",
    "nut.mtx <- nut.mtx[,-1]\n",
    "nut.mtx <- as.matrix(nut.mtx)"
   ]
  },
  {
   "cell_type": "code",
   "execution_count": 15,
   "id": "d33a0449",
   "metadata": {},
   "outputs": [
    {
     "name": "stderr",
     "output_type": "stream",
     "text": [
      "Warning message in dist(nut.mtx, method = \"euclidian\"):\n",
      "“NAs introduced by coercion”\n"
     ]
    }
   ],
   "source": [
    "# Format as matrix\n",
    "nut.dist <- as.matrix(dist(nut.mtx, method = \"euclidian\"))\n"
   ]
  },
  {
   "cell_type": "code",
   "execution_count": 32,
   "id": "de61e6a3",
   "metadata": {},
   "outputs": [],
   "source": [
    "# write matrix to file\n",
    "write.csv(nut.dist, '../data/220830_nutrient_dist_matrix.csv')"
   ]
  },
  {
   "cell_type": "code",
   "execution_count": 16,
   "id": "df35aa4f",
   "metadata": {},
   "outputs": [],
   "source": [
    "#Create a long data frame and remove pairwise comparisons between the same sample\n",
    "nut.dist.tidy <- nut.dist %>% \n",
    "  as.data.frame() %>% \n",
    "  mutate(SampleID.x = row.names(.)) %>% \n",
    "  gather(key = \"SampleID.y\", value = \"EucDist\", -SampleID.x) %>% \n",
    "  filter(!is.na(EucDist)) %>%\n",
    "  filter(SampleID.x != SampleID.y)\n"
   ]
  },
  {
   "cell_type": "code",
   "execution_count": 17,
   "id": "ec3ae265",
   "metadata": {},
   "outputs": [],
   "source": [
    "# Concat bray distance between samples with the nutrient distance between samples\n",
    "both.dist <- inner_join(bray.dist, nut.dist.tidy, by = c(\"SampleID.x\" = \"SampleID.x\" , \"SampleID.y\" = \"SampleID.y\"))"
   ]
  },
  {
   "cell_type": "code",
   "execution_count": 64,
   "id": "99c4978f",
   "metadata": {},
   "outputs": [
    {
     "data": {
      "text/html": [
       "<table class=\"dataframe\">\n",
       "<caption>A data.frame: 1 × 1</caption>\n",
       "<thead>\n",
       "\t<tr><th scope=col>label</th></tr>\n",
       "\t<tr><th scope=col>&lt;chr&gt;</th></tr>\n",
       "</thead>\n",
       "<tbody>\n",
       "\t<tr><td>r =  0.297 \n",
       "slope =  8.4 \n",
       "P =  4.67e-41</td></tr>\n",
       "</tbody>\n",
       "</table>\n"
      ],
      "text/latex": [
       "A data.frame: 1 × 1\n",
       "\\begin{tabular}{l}\n",
       " label\\\\\n",
       " <chr>\\\\\n",
       "\\hline\n",
       "\t r =  0.297 \n",
       "slope =  8.4 \n",
       "P =  4.67e-41\\\\\n",
       "\\end{tabular}\n"
      ],
      "text/markdown": [
       "\n",
       "A data.frame: 1 × 1\n",
       "\n",
       "| label &lt;chr&gt; |\n",
       "|---|\n",
       "| r =  0.297 \n",
       "slope =  8.4 \n",
       "P =  4.67e-41 |\n",
       "\n"
      ],
      "text/plain": [
       "  label                                    \n",
       "1 r =  0.297 \\nslope =  8.4 \\nP =  4.67e-41"
      ]
     },
     "metadata": {},
     "output_type": "display_data"
    }
   ],
   "source": [
    "# Compare spatial distance and nutrient comp\n",
    "\n",
    "#Perform correlation analysis and regression \n",
    "cor <- cor.test(both.dist$BrayDistance, both.dist$EucDist, method = \"pearson\", alternative = \"two.sided\") %>% tidy()\n",
    "lm <- lm(EucDist ~ BrayDistance, data = both.dist) %>% tidy() %>% filter(term == \"BrayDistance\")\n",
    "dist.stats <- data.frame(label = paste(\"r = \", signif(cor$estimate,3), \n",
    "                                       \"\\nslope = \", signif(lm$estimate, 3),\n",
    "                                       \"\\nP = \", signif(cor$p.value, 3)))\n",
    "\n",
    "dist.stats"
   ]
  },
  {
   "cell_type": "code",
   "execution_count": 2,
   "id": "27366e70",
   "metadata": {},
   "outputs": [],
   "source": [
    "# Make a regression plot of euclidian environment distance vs jaccard distance for all euclidian values\n",
    "#pdf('../plots/220826_euclidian_jaccard_dist_no1.pdf')\n",
    "dist.p <- both.dist %>% \n",
    "  ggplot(aes(EucDist, BrayDistance)) +\n",
    "  #geom_text(data = dist.stats, aes(x = 0, y = 0.5, label = label), hjust = 0, size = 5) + \n",
    "  geom_point(alpha = 0.5) +\n",
    "  geom_smooth(color = \"gray25\", method = \"lm\", se = F) +\n",
    "  scale_color_brewer(name = \"\", palette = \"Dark2\") +\n",
    "  scale_fill_brewer(name = \"\", palette = \"Dark2\") +\n",
    "  ylab(\"vOTUs (Virome)\\nPairwise jaccard Dissimilarity\") +\n",
    "  xlab(\"Difference between Samples (Euclidian distance)\") +\n",
    "  theme_light() +\n",
    "  #scale_x_log10() +\n",
    "  theme(text = element_text(size = 15),\n",
    "        legend.position = \"left\")\n",
    "dist.p\n",
    "dev.off()"
   ]
  },
  {
   "cell_type": "markdown",
   "id": "f3a83bc7",
   "metadata": {},
   "source": [
    "## Now comparing each soil biochemical individually"
   ]
  },
  {
   "cell_type": "code",
   "execution_count": 67,
   "id": "88b6596c",
   "metadata": {},
   "outputs": [],
   "source": [
    "# Take chemical measurements and put into matrix\n",
    "nut.mtx2 <- ward %>% \n",
    "  select(-Excess_Lime, -Texture_No, -H_Sat, -Ca_Sat, -K_Sat, -Na_Sat, -Mg_Sat) %>% \n",
    "  as.data.frame()\n",
    "row.names(nut.mtx2) <- nut.mtx2$SampleID\n",
    "nut.mtx2 <- nut.mtx2[,-1]\n",
    "nut.mtx2 <- as.matrix(nut.mtx2)"
   ]
  },
  {
   "cell_type": "code",
   "execution_count": 68,
   "id": "4c1f7c8b",
   "metadata": {},
   "outputs": [],
   "source": [
    "# Function to calculate differences between sampels\n",
    "get_differences <- function(x){\n",
    "  vec <- nut.mtx2[,x]\n",
    "  vec %*% t(vec)\n",
    "  var.dist <- dist(as.matrix(data.frame(x = 0, y = vec))) %>% as.matrix()\n",
    "  var.dist[upper.tri(var.dist)] <- NA \n",
    "  var.dist %>% \n",
    "    as.data.frame() %>% \n",
    "    mutate(SampleID.x = row.names(.)) %>% \n",
    "    gather(key = \"SampleID.y\", value = \"VarDist\", -SampleID.x) %>% \n",
    "    filter(!is.na(VarDist))\n",
    "}"
   ]
  },
  {
   "cell_type": "code",
   "execution_count": 69,
   "id": "c1c04b5c",
   "metadata": {},
   "outputs": [],
   "source": [
    "# Do function for each of the biochemical measurements\n",
    "var.list <- list()\n",
    "for(i in 1:ncol(nut.mtx2)){\n",
    "  var.name <- colnames(nut.mtx2)[i]\n",
    "  var.list[[var.name]] <- get_differences(i) \n",
    "}"
   ]
  },
  {
   "cell_type": "code",
   "execution_count": 70,
   "id": "3c272205",
   "metadata": {},
   "outputs": [],
   "source": [
    "# Put results into df with the sample names\n",
    "var.tidy <- plyr::ldply(var.list, function(x) x) %>% \n",
    "  filter(SampleID.x != SampleID.y) %>% \n",
    "  inner_join(both.dist, by = c(\"SampleID.x\" = \"SampleID.x\" , \"SampleID.y\" = \"SampleID.y\"))\n",
    "  #mutate(SpatialDistance = sqrt((Position.x.x - Position.x.y)^2 + (Position.y.x - Position.y.y)^2))\n",
    "names(var.tidy)[1] <- \"Variable\""
   ]
  },
  {
   "cell_type": "code",
   "execution_count": 71,
   "id": "c19064b0",
   "metadata": {},
   "outputs": [],
   "source": [
    "# Function to calculate correlation statistics between viral comm comp and biochem\n",
    "run_cor <- function(x){\n",
    "  cor.test(x$BrayDistance, x$VarDist, method = \"pearson\", alternative = \"two.sided\") %>% \n",
    "  tidy()\n",
    "}"
   ]
  },
  {
   "cell_type": "code",
   "execution_count": 73,
   "id": "693eba81",
   "metadata": {},
   "outputs": [],
   "source": [
    "# Make a stats text for each of the variables to plot later\n",
    "stats <- var.tidy %>% \n",
    "  group_by(Variable) %>% \n",
    "  nest() %>% \n",
    "  mutate(cor = map(data, run_cor)) %>% \n",
    "  unnest(cor) %>% \n",
    "  ungroup() %>% \n",
    "  mutate(p.adj = p.adjust(p.value, method = \"holm\")) %>% \n",
    "  mutate(label = paste(\"r = \", signif(estimate,2), \", P = \", signif(p.adj,3), sep = \"\")) %>%\n",
    "  inner_join(alt.names, by = \"Variable\")"
   ]
  },
  {
   "cell_type": "code",
   "execution_count": 74,
   "id": "bbf93a9a",
   "metadata": {},
   "outputs": [],
   "source": [
    "stats.cn <- stats %>% \n",
    "  select(-data) %>% \n",
    "  as.data.frame()"
   ]
  },
  {
   "cell_type": "code",
   "execution_count": 76,
   "id": "34791115",
   "metadata": {},
   "outputs": [
    {
     "name": "stderr",
     "output_type": "stream",
     "text": [
      "`geom_smooth()` using formula 'y ~ x'\n",
      "\n"
     ]
    },
    {
     "data": {
      "text/html": [
       "<strong>pdf:</strong> 2"
      ],
      "text/latex": [
       "\\textbf{pdf:} 2"
      ],
      "text/markdown": [
       "**pdf:** 2"
      ],
      "text/plain": [
       "pdf \n",
       "  2 "
      ]
     },
     "metadata": {},
     "output_type": "display_data"
    }
   ],
   "source": [
    "# Create the plot for each of the biochemcical measurements individually\n",
    "# For each of them there will be a seperate regression line and regression stats\n",
    "pdf('../plots/220826_euclidian_jaccard_dist.pdf')\n",
    "variables.p <- var.tidy %>% \n",
    "  inner_join(stats.cn, by = \"Variable\") %>%\n",
    "  ggplot(aes(VarDist, BrayDistance)) +\n",
    "  geom_point(shape = 16, size = 1, alpha = 0.5, color = \"gray25\") +\n",
    "  geom_text(data = stats, aes(x = 0.1, y = 0.4, label = label), hjust = 0, size=3) + \n",
    "  geom_smooth(color = \"black\", se = F, method = \"lm\") +\n",
    "  scale_color_brewer(name = \"Block\", palette = \"Set1\", direction = -1) +\n",
    "  ylab(\"vOTUs (Virome)\\nPairwise jaccard Dissimilarity\") +\n",
    "  xlab(\"Difference between samples\") +\n",
    "  #scale_x_continuous(breaks = seq(0, 18, by = 3)) +\n",
    "  facet_wrap(~ Variable2, scales = \"free\", ncol = 4) + \n",
    "  theme_bw() +\n",
    "  theme(text = element_text(size = 11),\n",
    "        legend.position = \"top\",\n",
    "        strip.background =element_rect(fill=\"gray25\"),\n",
    "        strip.text = element_text(colour = \"white\"))\n",
    "variables.p\n",
    "dev.off()"
   ]
  }
 ],
 "metadata": {
  "kernelspec": {
   "display_name": "R",
   "language": "R",
   "name": "ir"
  },
  "language_info": {
   "codemirror_mode": "r",
   "file_extension": ".r",
   "mimetype": "text/x-r-source",
   "name": "R",
   "pygments_lexer": "r",
   "version": "4.1.0"
  }
 },
 "nbformat": 4,
 "nbformat_minor": 5
}
